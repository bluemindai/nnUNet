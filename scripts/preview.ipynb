{
 "cells": [
  {
   "cell_type": "code",
   "execution_count": null,
   "metadata": {},
   "outputs": [],
   "source": [
    "from optimed.processes.preview import preview_3d_image\n",
    "from optimed.wrappers.operations import join, exists, isfile, maybe_mkdir\n",
    "from tqdm import tqdm\n",
    "import random\n",
    "import os\n",
    "from multiprocessing import Pool, cpu_count\n",
    "\n",
    "dst = \"/home/eolika/Desktop/BlueMind/nnUNet/trains/nnUNet_raw/Dataset101_mosaic_skelet_spine\"\n",
    "imgs_dir = join(dst, \"imagesTr\")\n",
    "labels_dir = join(dst, \"labelsTr\")\n",
    "\n",
    "cases = sorted([i for i in os.listdir(labels_dir) if isfile(join(labels_dir, i))])\n",
    "\n",
    "segmentation_dict = {\n",
    "    label: {\n",
    "        'color': (random.randint(0, 255), random.randint(0, 255), random.randint(0, 255)),\n",
    "        'opacity': 1.0\n",
    "    }\n",
    "    for label in range(1, 27)\n",
    "}\n",
    "\n",
    "preview_dir = join(dst, \"preview\")\n",
    "maybe_mkdir(preview_dir)\n",
    "\n",
    "def process_case(case):\n",
    "    base = case.split('.nii.gz')[0]\n",
    "    # Проверяем, существует ли уже изображение.\n",
    "    # Обратите внимание, что в оригинале условие проверяет путь join(dst, case, f\"{base}.png\")\n",
    "    # Если требуется проверять именно preview_dir, можно заменить путь ниже.\n",
    "    if not exists(join(preview_dir, f\"{base}.png\")):\n",
    "        preview_3d_image(\n",
    "            input_path=join(labels_dir, case),\n",
    "            output=join(preview_dir, f\"{base}.png\"),\n",
    "            segmentation_dict=segmentation_dict,\n",
    "            view_direction=[\"A\", \"P\", \"R\", \"L\"],\n",
    "            background_color=(255, 255, 255),\n",
    "            window_size=(1200, 1200)\n",
    "        )\n",
    "    return case\n",
    "\n",
    "# processes=cpu_count()\n",
    "processes=4\n",
    "\n",
    "if __name__ == \"__main__\":\n",
    "    # Создаём пул процессов, используя количество ядер CPU\n",
    "    with Pool(processes=processes) as pool:\n",
    "        # Используем imap для получения результатов и обновления progress bar\n",
    "        for _ in tqdm(pool.imap_unordered(process_case, cases), total=len(cases), desc=\"Processing cases\"):\n",
    "            pass\n"
   ]
  },
  {
   "cell_type": "code",
   "execution_count": null,
   "metadata": {},
   "outputs": [],
   "source": []
  }
 ],
 "metadata": {
  "kernelspec": {
   "display_name": ".nnunet_venv",
   "language": "python",
   "name": "python3"
  },
  "language_info": {
   "codemirror_mode": {
    "name": "ipython",
    "version": 3
   },
   "file_extension": ".py",
   "mimetype": "text/x-python",
   "name": "python",
   "nbconvert_exporter": "python",
   "pygments_lexer": "ipython3",
   "version": "3.10.12"
  }
 },
 "nbformat": 4,
 "nbformat_minor": 2
}
