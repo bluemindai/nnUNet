{
 "cells": [
  {
   "cell_type": "code",
   "execution_count": null,
   "metadata": {},
   "outputs": [],
   "source": [
    "from nnunetv2.evaluation.evaluate_predictions import compute_metrics_on_folder, labels_to_list_of_regions\n",
    "from nnunetv2.imageio.nibabel_reader_writer import NibabelIOWithReorient\n",
    "import json\n",
    "\n",
    "folder_ref = '/home/eolika/Desktop/BlueMind/nnUNet/trains/nnUNet_raw/Dataset904_mosaic_kidney_stones/labelsTr'\n",
    "model_folder = '/home/eolika/Desktop/BlueMind/nnUNet/trains/nnUNet_results/Dataset904_mosaic_kidney_stones/nnUNetTrainerNoMirroring__nnUNetPlans__3d_fullres_mosaic_spacing_stdres_NoRsmp'\n",
    "folder_pred = f'{model_folder}/fold_3/validation'\n",
    "output_file = f'{folder_pred}/summary.json'\n",
    "dataset_json = f'{model_folder}/dataset.json'\n",
    "image_reader_writer = NibabelIOWithReorient()\n",
    "file_ending = '.nii.gz'\n",
    "ignore_label = None\n",
    "num_processes = 12\n",
    "\n",
    "with open(dataset_json) as f:\n",
    "    data = json.loads(f.read())\n",
    "\n",
    "# regions = labels_to_list_of_regions(list(data['labels'].values())[1:])\n",
    "\n",
    "regions = list(data['labels'].values())[1:]\n",
    "\n",
    "compute_metrics_on_folder(folder_ref, folder_pred, output_file, image_reader_writer, file_ending, regions, ignore_label,\n",
    "                            num_processes)"
   ]
  },
  {
   "cell_type": "code",
   "execution_count": null,
   "metadata": {},
   "outputs": [],
   "source": []
  }
 ],
 "metadata": {
  "kernelspec": {
   "display_name": ".nnunetv2-venv",
   "language": "python",
   "name": "python3"
  },
  "language_info": {
   "codemirror_mode": {
    "name": "ipython",
    "version": 3
   },
   "file_extension": ".py",
   "mimetype": "text/x-python",
   "name": "python",
   "nbconvert_exporter": "python",
   "pygments_lexer": "ipython3",
   "version": "3.10.12"
  }
 },
 "nbformat": 4,
 "nbformat_minor": 2
}
