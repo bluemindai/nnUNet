{
 "cells": [
  {
   "cell_type": "code",
   "execution_count": 1,
   "metadata": {},
   "outputs": [],
   "source": [
    "import sys\n",
    "sys.path.append('..')\n",
    "from nnunetv2.dataset_conversion.generate_dataset_json import generate_dataset_json\n",
    "import os\n",
    "\n",
    "dataset = \"/home/eolika/Desktop/BlueMind/nnUNet/trains/nnUNet_raw/Dataset101_mosaic_skelet_ribs\"\n",
    "\n",
    "generate_dataset_json(output_folder=dataset,\n",
    "                      channel_names={0: \"CT\"},\n",
    "                      labels={\n",
    "                          'background': 0,\n",
    "                          \"rib_left_1\": 1,\n",
    "                          \"rib_left_2\": 2,\n",
    "                          \"rib_left_3\": 3,\n",
    "                          \"rib_left_4\": 4,\n",
    "                          \"rib_left_5\": 5,\n",
    "                          \"rib_left_6\": 6,\n",
    "                          \"rib_left_7\": 7,\n",
    "                          \"rib_left_8\": 8,\n",
    "                          \"rib_left_9\": 9,\n",
    "                          \"rib_left_10\": 10,\n",
    "                          \"rib_left_11\": 11,\n",
    "                          \"rib_left_12\": 12,\n",
    "                          \"rib_right_1\": 13,\n",
    "                          \"rib_right_2\": 14,\n",
    "                          \"rib_right_3\": 15,\n",
    "                          \"rib_right_4\": 16,\n",
    "                          \"rib_right_5\": 17,\n",
    "                          \"rib_right_6\": 18,\n",
    "                          \"rib_right_7\": 19,\n",
    "                          \"rib_right_8\": 20,\n",
    "                          \"rib_right_9\": 21,\n",
    "                          \"rib_right_10\": 22,\n",
    "                          \"rib_right_11\": 23,\n",
    "                          \"rib_right_12\": 24,\n",
    "                          \"costal_cartilages\": 25,\n",
    "                          \"sternum\": 26\n",
    "                        },\n",
    "                        num_training_cases=len(os.listdir(f'{dataset}/imagesTr')), \n",
    "                        file_ending='.nii.gz',\n",
    "                        dataset_name=dataset.split('/')[-1], \n",
    "                        reference='BlueMind AI Inc',\n",
    "                        release='1.0.0',\n",
    "                        overwrite_image_reader_writer='NibabelIOWithReorient',\n",
    "                        description=\"skelet_ribs\")"
   ]
  },
  {
   "cell_type": "code",
   "execution_count": null,
   "metadata": {},
   "outputs": [],
   "source": []
  }
 ],
 "metadata": {
  "kernelspec": {
   "display_name": ".nnunetv2-venv",
   "language": "python",
   "name": "python3"
  },
  "language_info": {
   "codemirror_mode": {
    "name": "ipython",
    "version": 3
   },
   "file_extension": ".py",
   "mimetype": "text/x-python",
   "name": "python",
   "nbconvert_exporter": "python",
   "pygments_lexer": "ipython3",
   "version": "3.10.12"
  },
  "orig_nbformat": 4
 },
 "nbformat": 4,
 "nbformat_minor": 2
}
