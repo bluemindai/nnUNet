{
 "cells": [
  {
   "cell_type": "code",
   "execution_count": 1,
   "metadata": {},
   "outputs": [],
   "source": [
    "import sys\n",
    "sys.path.append('..')\n",
    "from nnunetv2.dataset_conversion.generate_dataset_json import generate_dataset_json\n",
    "import os\n",
    "\n",
    "dataset = \"/media/eolika/49755d50-5426-4672-87cc-2d1a5a3747ad/nnUNet/nnUNet_raw/Dataset201_renal_vessels\"\n",
    "\n",
    "generate_dataset_json(output_folder=dataset,\n",
    "                      channel_names={0: \"CT\"},\n",
    "                      labels={\n",
    "                          \"background\": 0,\n",
    "                          \"renal_artery\": 1,\n",
    "                          \"renal_vein\": 2\n",
    "                        },\n",
    "                        num_training_cases=len(os.listdir(f'{dataset}/imagesTr')), \n",
    "                        file_ending='.nii.gz',\n",
    "                        dataset_name=dataset.split('/')[-1], \n",
    "                        reference='none',\n",
    "                        release='1.0.0',\n",
    "                        overwrite_image_reader_writer='NibabelIOWithReorient',\n",
    "                        description=\"renal_vessels\")"
   ]
  },
  {
   "cell_type": "code",
   "execution_count": null,
   "metadata": {},
   "outputs": [],
   "source": []
  },
  {
   "cell_type": "code",
   "execution_count": null,
   "metadata": {},
   "outputs": [],
   "source": []
  }
 ],
 "metadata": {
  "kernelspec": {
   "display_name": ".nnunetv2-venv",
   "language": "python",
   "name": "python3"
  },
  "language_info": {
   "codemirror_mode": {
    "name": "ipython",
    "version": 3
   },
   "file_extension": ".py",
   "mimetype": "text/x-python",
   "name": "python",
   "nbconvert_exporter": "python",
   "pygments_lexer": "ipython3",
   "version": "3.10.12"
  },
  "orig_nbformat": 4
 },
 "nbformat": 4,
 "nbformat_minor": 2
}
