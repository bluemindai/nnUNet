{
 "cells": [
  {
   "cell_type": "code",
   "execution_count": 1,
   "metadata": {},
   "outputs": [],
   "source": [
    "import sys\n",
    "sys.path.append('..')\n",
    "from nnunetv2.dataset_conversion.generate_dataset_json import generate_dataset_json\n",
    "import os\n",
    "\n",
    "dataset = \"/home/eolika/Desktop/BlueMind/nnUNet/trains/nnUNet_raw/Dataset300_mosaic_cardiovascular\"\n",
    "\n",
    "generate_dataset_json(output_folder=dataset,\n",
    "                      channel_names={0: \"CT\"},\n",
    "                      labels={\n",
    "                          'background': 0,\n",
    "                          \"heart_myocardium\": 1,\n",
    "                          \"heart_atrium_left\": 2,\n",
    "                          \"heart_ventricle_left\": 3,\n",
    "                          \"heart_atrium_right\": 4,\n",
    "                          \"heart_ventricle_right\": 5,\n",
    "                          \"aorta\": 6,\n",
    "                          \"pulmonary_vein\": 7,\n",
    "                          \"pulmonary_artery\": 8,\n",
    "                          \"brachiocephalic_trunk\": 9,\n",
    "                          \"subclavian_artery_right\": 10,\n",
    "                          \"subclavian_artery_left\": 11,\n",
    "                          \"common_carotid_artery_right\": 12,\n",
    "                          \"common_carotid_artery_left\": 13,\n",
    "                          \"brachiocephalic_vein_left\": 14,\n",
    "                          \"brachiocephalic_vein_right\": 15,\n",
    "                          \"superior_vena_cava\": 16,\n",
    "                          \"inferior_vena_cava\": 17,\n",
    "                          \"portal_vein_and_splenic_vein\": 18,\n",
    "                          \"iliac_artery_left\": 19,\n",
    "                          \"iliac_artery_right\": 20,\n",
    "                          \"iliac_vena_left\": 21,\n",
    "                          \"iliac_vena_right\": 22,\n",
    "                          \"liver_vessels\": 23,\n",
    "                          \"lung_vessels\": 24\n",
    "                        },\n",
    "                        num_training_cases=len(os.listdir(f'{dataset}/imagesTr')), \n",
    "                        file_ending='.nii.gz',\n",
    "                        dataset_name=dataset.split('/')[-1], \n",
    "                        reference='BlueMind AI Inc',\n",
    "                        release='1.0.0',\n",
    "                        overwrite_image_reader_writer='NibabelIOWithReorient',\n",
    "                        description=\"cardiovascular\")"
   ]
  },
  {
   "cell_type": "code",
   "execution_count": null,
   "metadata": {},
   "outputs": [],
   "source": []
  }
 ],
 "metadata": {
  "kernelspec": {
   "display_name": ".nnunetv2-venv",
   "language": "python",
   "name": "python3"
  },
  "language_info": {
   "codemirror_mode": {
    "name": "ipython",
    "version": 3
   },
   "file_extension": ".py",
   "mimetype": "text/x-python",
   "name": "python",
   "nbconvert_exporter": "python",
   "pygments_lexer": "ipython3",
   "version": "3.10.12"
  },
  "orig_nbformat": 4
 },
 "nbformat": 4,
 "nbformat_minor": 2
}
