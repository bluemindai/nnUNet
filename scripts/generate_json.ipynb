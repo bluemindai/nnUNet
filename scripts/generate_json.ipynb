{
 "cells": [
  {
   "cell_type": "code",
   "execution_count": 1,
   "metadata": {},
   "outputs": [],
   "source": [
    "import sys\n",
    "sys.path.append('..')\n",
    "from nnunetv2.dataset_conversion.generate_dataset_json import generate_dataset_json\n",
    "import os\n",
    "\n",
    "dataset = \"/home/eolika/Desktop/BlueMind/nnUNet/trains/nnUNet_raw/Dataset400_mosaic_organs\"\n",
    "\n",
    "generate_dataset_json(output_folder=dataset,\n",
    "                      channel_names={0: \"CT\"},\n",
    "                      labels={\n",
    "                          'background': 0,\n",
    "                          \"spleen\": 1,\n",
    "                          \"kidney_right\": 2,\n",
    "                          \"kidney_left\": 3,\n",
    "                          \"gallbladder\": 4,\n",
    "                          \"liver\": 5,\n",
    "                          \"stomach\": 6,\n",
    "                          \"pancreas\": 7,\n",
    "                          \"adrenal_gland_right\": 8,\n",
    "                          \"adrenal_gland_left\": 9,\n",
    "                          \"lung_upper_lobe_left\": 10,\n",
    "                          \"lung_lower_lobe_left\": 11,\n",
    "                          \"lung_upper_lobe_right\": 12,\n",
    "                          \"lung_middle_lobe_right\": 13,\n",
    "                          \"lung_lower_lobe_right\": 14,\n",
    "                          \"lung_trachea_bronchia\": 15,\n",
    "                          \"esophagus\": 16,\n",
    "                          \"thyroid_gland\": 17,\n",
    "                          \"small_bowel\": 18,\n",
    "                          \"duodenum\": 19,\n",
    "                          \"colon\": 20,\n",
    "                          \"urinary_bladder\": 21,\n",
    "                          \"prostate\": 22,\n",
    "                          \"brain\": 23,\n",
    "                          \"spinal_cord\": 24\n",
    "                        },\n",
    "                        num_training_cases=len(os.listdir(f'{dataset}/imagesTr')), \n",
    "                        file_ending='.nii.gz',\n",
    "                        dataset_name=dataset.split('/')[-1], \n",
    "                        reference='BlueMind AI Inc',\n",
    "                        release='1.0.0',\n",
    "                        overwrite_image_reader_writer='NibabelIOWithReorient',\n",
    "                        description=\"organs\")"
   ]
  },
  {
   "cell_type": "code",
   "execution_count": null,
   "metadata": {},
   "outputs": [],
   "source": []
  }
 ],
 "metadata": {
  "kernelspec": {
   "display_name": ".nnunetv2-venv",
   "language": "python",
   "name": "python3"
  },
  "language_info": {
   "codemirror_mode": {
    "name": "ipython",
    "version": 3
   },
   "file_extension": ".py",
   "mimetype": "text/x-python",
   "name": "python",
   "nbconvert_exporter": "python",
   "pygments_lexer": "ipython3",
   "version": "3.10.12"
  },
  "orig_nbformat": 4
 },
 "nbformat": 4,
 "nbformat_minor": 2
}
