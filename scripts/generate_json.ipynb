{
 "cells": [
  {
   "cell_type": "code",
   "execution_count": 1,
   "metadata": {},
   "outputs": [],
   "source": [
    "import sys\n",
    "sys.path.append('..')\n",
    "from nnunetv2.dataset_conversion.generate_dataset_json import generate_dataset_json\n",
    "import os\n",
    "\n",
    "dataset = \"/media/eolika/8224BB4D24BB42C9/BLUEMIND/nnUNet/trains/nnUNet_raw/Dataset001_mosaic_total\"\n",
    "\n",
    "generate_dataset_json(output_folder=dataset,\n",
    "                      channel_names={0: \"CT\"},\n",
    "                      labels={\n",
    "                        \"background\": 0,\n",
    "                        \"bones\": 1,\n",
    "                        \"arteries\": 2,\n",
    "                        \"veins\": 3,\n",
    "                        \"muscles\": 4,\n",
    "                        \"spleen\": 5,\n",
    "                        \"kidney_right\": 6,\n",
    "                        \"kidney_left\": 7,\n",
    "                        \"gallbladder\": 8,\n",
    "                        \"liver\": 9,\n",
    "                        \"liver_vessels\": 10,\n",
    "                        \"stomach\": 11,\n",
    "                        \"pancreas\": 12,\n",
    "                        \"adrenal_gland_right\": 13,\n",
    "                        \"adrenal_gland_left\": 14,\n",
    "                        \"esophagus\": 15,\n",
    "                        \"brain\": 16,\n",
    "                        \"small_bowel\": 17,\n",
    "                        \"duodenum\": 18,\n",
    "                        \"colon\": 19,\n",
    "                        \"urinary_bladder\": 20,\n",
    "                        \"lung_upper_lobe_left\": 21,\n",
    "                        \"lung_lower_lobe_left\": 22,\n",
    "                        \"lung_upper_lobe_right\": 23,\n",
    "                        \"lung_middle_lobe_right\": 24,\n",
    "                        \"lung_lower_lobe_right\": 25,\n",
    "                        \"lung_trachea_bronchia\": 26,\n",
    "                        \"lung_vessels\": 27,\n",
    "                        \"heart_myocardium\": 28,\n",
    "                        \"heart_atrium_left\": 29,\n",
    "                        \"heart_ventricle_left\": 30,\n",
    "                        \"heart_atrium_right\": 31,\n",
    "                        \"heart_ventricle_right\": 32,\n",
    "                        \"liver_formation\":  33,\n",
    "                        \"lung_formation\": 34,\n",
    "                        \"kidney_formation\": 35,\n",
    "                        \"pleural_effusion\": 36,\n",
    "                        \"intracerebral_hemorrhage\": 37\n",
    "                        },\n",
    "                        num_training_cases=len(os.listdir(f'{dataset}/imagesTr')), \n",
    "                        file_ending='.nii.gz',\n",
    "                        dataset_name=dataset.split('/')[-1], \n",
    "                        reference='none',\n",
    "                        release='1.0.0',\n",
    "                        overwrite_image_reader_writer='NibabelIOWithReorient',\n",
    "                        description=\"mosaic_total\")"
   ]
  },
  {
   "cell_type": "code",
   "execution_count": null,
   "metadata": {},
   "outputs": [],
   "source": []
  }
 ],
 "metadata": {
  "kernelspec": {
   "display_name": ".nnunetv2-venv",
   "language": "python",
   "name": "python3"
  },
  "language_info": {
   "codemirror_mode": {
    "name": "ipython",
    "version": 3
   },
   "file_extension": ".py",
   "mimetype": "text/x-python",
   "name": "python",
   "nbconvert_exporter": "python",
   "pygments_lexer": "ipython3",
   "version": "3.10.12"
  },
  "orig_nbformat": 4
 },
 "nbformat": 4,
 "nbformat_minor": 2
}
