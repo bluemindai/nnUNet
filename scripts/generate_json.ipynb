{
 "cells": [
  {
   "cell_type": "code",
   "execution_count": 1,
   "metadata": {},
   "outputs": [],
   "source": [
    "import sys\n",
    "sys.path.append('..')\n",
    "from nnunetv2.dataset_conversion.generate_dataset_json import generate_dataset_json\n",
    "import os\n",
    "\n",
    "dataset = \"/home/eolika/Desktop/BlueMind/nnUNet/trains/nnUNet_raw/Dataset902_mosaic_lung_pathology\"\n",
    "\n",
    "generate_dataset_json(\n",
    "    output_folder=dataset,\n",
    "    channel_names={0: \"CT\"},\n",
    "    labels={\n",
    "        'background': 0,\n",
    "        \"lung\": 1,\n",
    "        \"lung_trachea_bronchia\": 2,\n",
    "        \"lung_vessels\": 3,\n",
    "        \"pneumonia\": 4,\n",
    "        \"lung_nodule\": 5\n",
    "      },\n",
    "      num_training_cases=len(os.listdir(f'{dataset}/imagesTr')), \n",
    "      file_ending='.nii.gz',\n",
    "      dataset_name=dataset.split('/')[-1], \n",
    "      reference='BlueMind AI Inc',\n",
    "      release='1.0.0',\n",
    "      overwrite_image_reader_writer='NibabelIOWithReorient',\n",
    "      description=\"lung_pathology\"\n",
    ")"
   ]
  },
  {
   "cell_type": "code",
   "execution_count": null,
   "metadata": {},
   "outputs": [],
   "source": []
  }
 ],
 "metadata": {
  "kernelspec": {
   "display_name": ".nnunetv2-venv",
   "language": "python",
   "name": "python3"
  },
  "language_info": {
   "codemirror_mode": {
    "name": "ipython",
    "version": 3
   },
   "file_extension": ".py",
   "mimetype": "text/x-python",
   "name": "python",
   "nbconvert_exporter": "python",
   "pygments_lexer": "ipython3",
   "version": "3.10.12"
  },
  "orig_nbformat": 4
 },
 "nbformat": 4,
 "nbformat_minor": 2
}
