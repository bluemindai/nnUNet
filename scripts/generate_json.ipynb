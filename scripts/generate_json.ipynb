{
 "cells": [
  {
   "cell_type": "code",
   "execution_count": 1,
   "metadata": {},
   "outputs": [],
   "source": [
    "import sys\n",
    "sys.path.append('..')\n",
    "from nnunetv2.dataset_conversion.generate_dataset_json import generate_dataset_json\n",
    "import os\n",
    "\n",
    "dataset = \"/media/eolika/49755d50-5426-4672-87cc-2d1a5a3747ad/nnUNet/nnUNet_raw/Dataset101_mosaic_spine\"\n",
    "\n",
    "generate_dataset_json(output_folder=dataset,\n",
    "                      channel_names={0: \"CT\"},\n",
    "                      labels={\n",
    "                          \"background\": 0,\n",
    "                          \"sacrum\": 1,\n",
    "                          \"vertebrae_L5\": 2,\n",
    "                          \"vertebrae_L4\": 3,\n",
    "                          \"vertebrae_L3\": 4,\n",
    "                          \"vertebrae_L2\": 5,\n",
    "                          \"vertebrae_L1\": 6,\n",
    "                          \"vertebrae_T12\": 7,\n",
    "                          \"vertebrae_T11\": 8,\n",
    "                          \"vertebrae_T10\": 9,\n",
    "                          \"vertebrae_T9\": 10,\n",
    "                          \"vertebrae_T8\": 11,\n",
    "                          \"vertebrae_T7\": 12,\n",
    "                          \"vertebrae_T6\": 13,\n",
    "                          \"vertebrae_T5\": 14,\n",
    "                          \"vertebrae_T4\": 15,\n",
    "                          \"vertebrae_T3\": 16,\n",
    "                          \"vertebrae_T2\": 17,\n",
    "                          \"vertebrae_T1\": 18,\n",
    "                          \"vertebrae_C7\": 19,\n",
    "                          \"vertebrae_C6\": 20,\n",
    "                          \"vertebrae_C5\": 21,\n",
    "                          \"vertebrae_C4\": 22,\n",
    "                          \"vertebrae_C3\": 23,\n",
    "                          \"vertebrae_C2\": 24,\n",
    "                          \"vertebrae_C1\": 25,\n",
    "                        },\n",
    "                        num_training_cases=len(os.listdir(f'{dataset}/imagesTr')), \n",
    "                        file_ending='.nii.gz',\n",
    "                        dataset_name=dataset.split('/')[-1], \n",
    "                        reference='BlueMind AI Inc',\n",
    "                        release='1.0.0',\n",
    "                        overwrite_image_reader_writer='NibabelIOWithReorient',\n",
    "                        description=\"spine\")"
   ]
  },
  {
   "cell_type": "code",
   "execution_count": null,
   "metadata": {},
   "outputs": [],
   "source": []
  }
 ],
 "metadata": {
  "kernelspec": {
   "display_name": ".nnunetv2-venv",
   "language": "python",
   "name": "python3"
  },
  "language_info": {
   "codemirror_mode": {
    "name": "ipython",
    "version": 3
   },
   "file_extension": ".py",
   "mimetype": "text/x-python",
   "name": "python",
   "nbconvert_exporter": "python",
   "pygments_lexer": "ipython3",
   "version": "3.10.12"
  },
  "orig_nbformat": 4
 },
 "nbformat": 4,
 "nbformat_minor": 2
}
