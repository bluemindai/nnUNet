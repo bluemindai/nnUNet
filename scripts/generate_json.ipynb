{
 "cells": [
  {
   "cell_type": "code",
   "execution_count": 1,
   "metadata": {},
   "outputs": [],
   "source": [
    "import sys\n",
    "sys.path.append('..')\n",
    "from nnunetv2.dataset_conversion.generate_dataset_json import generate_dataset_json\n",
    "import os\n",
    "\n",
    "dataset = \"/home/eolika/Desktop/BlueMind/nnUNet/trains/nnUNet_raw/Dataset310_aorta_detailed\"\n",
    "\n",
    "generate_dataset_json(\n",
    "    output_folder=dataset,\n",
    "    channel_names={0: \"CT\"},\n",
    "    labels={\n",
    "        'background': 0,\n",
    "        \"Zone0\": 1,\n",
    "        \"Innominate\": 2,\n",
    "        \"Zone1\": 3,\n",
    "        \"Left Common Carotid\": 4,\n",
    "        \"Zone2\": 5,\n",
    "        \"Left Subclavian Artery\": 6,\n",
    "        \"Zone3\": 7,\n",
    "        \"Zone4\": 8,\n",
    "        \"Zone5\": 9,\n",
    "        \"Zone6\": 10,\n",
    "        \"Celiac Artery\": 11,\n",
    "        \"Zone7\": 12,\n",
    "        \"SMA\": 13,\n",
    "        \"Zone8\": 14,\n",
    "        \"Right Renal Artery\": 15,\n",
    "        \"Left Renal Artery\": 16,\n",
    "        \"Zone9\": 17,\n",
    "        \"Zone10 R\": 18,\n",
    "        \"Zone10 L\": 19,\n",
    "        \"Right Internal lliac Artery\": 20,\n",
    "        \"Left Internal lliac Artery\": 21,\n",
    "        \"Zone11 R\": 22,\n",
    "        \"Zone11 L\": 23\n",
    "      },\n",
    "      num_training_cases=len(os.listdir(f'{dataset}/imagesTr')), \n",
    "      file_ending='.nii.gz',\n",
    "      dataset_name=dataset.split('/')[-1], \n",
    "      reference='BlueMind AI Inc',\n",
    "      release='1.0.0',\n",
    "      overwrite_image_reader_writer='NibabelIOWithReorient',\n",
    "      description=\"aorta_detailed\"\n",
    ")"
   ]
  },
  {
   "cell_type": "code",
   "execution_count": 4,
   "metadata": {},
   "outputs": [
    {
     "data": {
      "text/plain": [
       "(True, True)"
      ]
     },
     "execution_count": 4,
     "metadata": {},
     "output_type": "execute_result"
    }
   ],
   "source": [
    "from optimed.wrappers.nifti import load_nifti\n",
    "import numpy as np\n",
    "\n",
    "ct = load_nifti(\"/media/eolika/BlueMindAI/CT/dataset/mosaic_total_dataset/s0656/spacing_1mm/ct.nii.gz\")\n",
    "\n",
    "seg = load_nifti(\"/media/eolika/BlueMindAI/CT/dataset/mosaic_total_dataset/s0656/spacing_1mm/vertebrae_L5.nii.gz\")\n",
    "\n",
    "ct.shape == seg.shape, np.allclose(ct.affine, seg.affine)"
   ]
  },
  {
   "cell_type": "code",
   "execution_count": null,
   "metadata": {},
   "outputs": [],
   "source": []
  }
 ],
 "metadata": {
  "kernelspec": {
   "display_name": ".nnunet_venv",
   "language": "python",
   "name": "python3"
  },
  "language_info": {
   "codemirror_mode": {
    "name": "ipython",
    "version": 3
   },
   "file_extension": ".py",
   "mimetype": "text/x-python",
   "name": "python",
   "nbconvert_exporter": "python",
   "pygments_lexer": "ipython3",
   "version": "3.10.12"
  },
  "orig_nbformat": 4
 },
 "nbformat": 4,
 "nbformat_minor": 2
}
