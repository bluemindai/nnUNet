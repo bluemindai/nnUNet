{
 "cells": [
  {
   "cell_type": "code",
   "execution_count": 1,
   "metadata": {},
   "outputs": [],
   "source": [
    "import sys\n",
    "sys.path.append('..')\n",
    "from nnunetv2.dataset_conversion.generate_dataset_json import generate_dataset_json\n",
    "import os\n",
    "\n",
    "dataset = \"/home/eolika/Desktop/BlueMind/nnUNet/trains/nnUNet_raw/Dataset701_mosaic_lymph_nodes\"\n",
    "\n",
    "generate_dataset_json(\n",
    "    output_folder=dataset,\n",
    "    channel_names={0: \"CT\"},\n",
    "    labels={\n",
    "        'background': 0,\n",
    "        \"mediastinal\": 1,\n",
    "        \"illiac\": 2,\n",
    "        \"infraclavicular\": 3,\n",
    "        \"paraaortic\": 4,\n",
    "        \"inguinal\": 5,\n",
    "        \"mesenteric\": 6,\n",
    "        \"cervical\": 7,\n",
    "        \"axillary\": 8\n",
    "      },\n",
    "      num_training_cases=len(os.listdir(f'{dataset}/imagesTr')), \n",
    "      file_ending='.nii.gz',\n",
    "      dataset_name=dataset.split('/')[-1], \n",
    "      reference='BlueMind AI Inc',\n",
    "      release='1.0.0',\n",
    "      overwrite_image_reader_writer='NibabelIOWithReorient',\n",
    "      description=\"lymph_nodes\"\n",
    ")"
   ]
  },
  {
   "cell_type": "code",
   "execution_count": 4,
   "metadata": {},
   "outputs": [
    {
     "data": {
      "text/plain": [
       "(True, True)"
      ]
     },
     "execution_count": 4,
     "metadata": {},
     "output_type": "execute_result"
    }
   ],
   "source": [
    "from optimed.wrappers.nifti import load_nifti\n",
    "import numpy as np\n",
    "\n",
    "ct = load_nifti(\"/media/eolika/BlueMindAI/CT/dataset/mosaic_total_dataset/s0656/spacing_1mm/ct.nii.gz\")\n",
    "\n",
    "seg = load_nifti(\"/media/eolika/BlueMindAI/CT/dataset/mosaic_total_dataset/s0656/spacing_1mm/vertebrae_L5.nii.gz\")\n",
    "\n",
    "ct.shape == seg.shape, np.allclose(ct.affine, seg.affine)"
   ]
  },
  {
   "cell_type": "code",
   "execution_count": null,
   "metadata": {},
   "outputs": [],
   "source": []
  }
 ],
 "metadata": {
  "kernelspec": {
   "display_name": ".nnunet_venv",
   "language": "python",
   "name": "python3"
  },
  "language_info": {
   "codemirror_mode": {
    "name": "ipython",
    "version": 3
   },
   "file_extension": ".py",
   "mimetype": "text/x-python",
   "name": "python",
   "nbconvert_exporter": "python",
   "pygments_lexer": "ipython3",
   "version": "3.10.12"
  },
  "orig_nbformat": 4
 },
 "nbformat": 4,
 "nbformat_minor": 2
}
