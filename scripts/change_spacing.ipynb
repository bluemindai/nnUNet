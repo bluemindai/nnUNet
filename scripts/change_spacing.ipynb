{
 "cells": [
  {
   "cell_type": "code",
   "execution_count": 1,
   "metadata": {},
   "outputs": [],
   "source": [
    "from predict import change_spacing\n",
    "import nibabel as nib\n",
    "import numpy as np\n",
    "import multiprocessing\n",
    "import datetime\n",
    "import sys\n",
    "import os"
   ]
  },
  {
   "cell_type": "code",
   "execution_count": 2,
   "metadata": {},
   "outputs": [],
   "source": [
    "proc_num = 6"
   ]
  },
  {
   "cell_type": "code",
   "execution_count": 3,
   "metadata": {},
   "outputs": [
    {
     "data": {
      "text/plain": [
       "(2224, 2224)"
      ]
     },
     "execution_count": 3,
     "metadata": {},
     "output_type": "execute_result"
    }
   ],
   "source": [
    "dataset_dir = \"/media/eolika/8224BB4D24BB42C9/BLUEMIND/nnUNet/trains/nnUNet_raw/Dataset101_mosaic_bones_and_muscles\"\n",
    "dataset_imgs_dir = os.path.join(dataset_dir, 'imagesTr')\n",
    "dataset_lbls_dir = os.path.join(dataset_dir, 'labelsTr')\n",
    "\n",
    "len(os.listdir(dataset_imgs_dir)), len(os.listdir(dataset_lbls_dir))"
   ]
  },
  {
   "cell_type": "code",
   "execution_count": 4,
   "metadata": {},
   "outputs": [],
   "source": [
    "def update_progress():\n",
    "    with processed_count.get_lock():\n",
    "        processed_count.value += 1\n",
    "    progress = processed_count.value / case_count * 100\n",
    "    elapsed_time = (datetime.datetime.now() - start_time).total_seconds()\n",
    "    remaining_time = (elapsed_time / processed_count.value) * (case_count - processed_count.value)\n",
    "    progress_str = f\"Progress: {progress:.2f}% ({processed_count.value}/{case_count})\"\n",
    "    time_str = f\"Elapsed Time: {str(datetime.timedelta(seconds=int(elapsed_time)))} | Remaining Time: {str(datetime.timedelta(seconds=int(remaining_time)))}\"\n",
    "    output_str = f\"{progress_str.ljust(30)} | {time_str}\"\n",
    "    sys.stdout.write('\\r' + output_str)\n",
    "    sys.stdout.flush()\n",
    "\n",
    "def process_general_case(parent_dir, case_folder, order, dtype):\n",
    "    try:\n",
    "        input_file = os.path.join(parent_dir, case_folder)\n",
    "\n",
    "        img_in = nib.load(input_file)\n",
    "\n",
    "        img_in_rsp = change_spacing(img_in, \n",
    "                                    [1., 1., 1.],\n",
    "                                    order=order, \n",
    "                                    dtype=dtype, \n",
    "                                    nr_cpus=1)\n",
    "\n",
    "        nib.save(img_in_rsp, input_file)\n",
    "    except Exception as e:\n",
    "        print(e)\n",
    "        exception_cases.append(case_folder)\n"
   ]
  },
  {
   "cell_type": "markdown",
   "metadata": {},
   "source": [
    "### images"
   ]
  },
  {
   "cell_type": "code",
   "execution_count": null,
   "metadata": {},
   "outputs": [],
   "source": [
    "case_folders = os.listdir(dataset_imgs_dir)\n",
    "\n",
    "case_count = len(case_folders)\n",
    "processed_count = multiprocessing.Value('i', 0)  # Shared counte\n",
    "\n",
    "start_time = datetime.datetime.now()\n",
    "prev_elapsed_time = 0\n",
    "\n",
    "exception_cases = []\n",
    "\n",
    "# multi cycle magic\n",
    "pool = multiprocessing.Pool(processes=proc_num)\n",
    "i = 0\n",
    "for case_folder in os.listdir(dataset_imgs_dir):\n",
    "    pool.apply_async(process_general_case, args=(dataset_imgs_dir, case_folder, 3, np.int32), callback=lambda _: update_progress())\n",
    "\n",
    "pool.close()\n",
    "pool.join()\n",
    "\n",
    "print(f'\\nDone! Exception cases: {exception_cases}')\n",
    "print(f'Files in imagesTr: {len(os.listdir(dataset_imgs_dir))}')\n",
    "print(f'Files in labelsTr: {len(os.listdir(dataset_lbls_dir))}')"
   ]
  },
  {
   "cell_type": "markdown",
   "metadata": {},
   "source": [
    "### labels"
   ]
  },
  {
   "cell_type": "code",
   "execution_count": 5,
   "metadata": {},
   "outputs": [
    {
     "name": "stdout",
     "output_type": "stream",
     "text": [
      "Progress: 100.00% (2224/2224)  | Elapsed Time: 0:11:26 | Remaining Time: 0:00:00\n",
      "Done! Exception cases: []\n",
      "Files in imagesTr: 2224\n",
      "Files in labelsTr: 2224\n"
     ]
    }
   ],
   "source": [
    "case_folders = os.listdir(dataset_lbls_dir)\n",
    "\n",
    "case_count = len(case_folders)\n",
    "processed_count = multiprocessing.Value('i', 0)  # Shared counte\n",
    "\n",
    "start_time = datetime.datetime.now()\n",
    "prev_elapsed_time = 0\n",
    "\n",
    "exception_cases = []\n",
    "\n",
    "# multi cycle magic\n",
    "pool = multiprocessing.Pool(processes=proc_num)\n",
    "i = 0\n",
    "for case_folder in os.listdir(dataset_lbls_dir):\n",
    "    pool.apply_async(process_general_case, args=(dataset_lbls_dir, case_folder, 0, np.uint8), callback=lambda _: update_progress())\n",
    "\n",
    "pool.close()\n",
    "pool.join()\n",
    "\n",
    "print(f'\\nDone! Exception cases: {exception_cases}')\n",
    "print(f'Files in imagesTr: {len(os.listdir(dataset_imgs_dir))}')\n",
    "print(f'Files in labelsTr: {len(os.listdir(dataset_lbls_dir))}')"
   ]
  },
  {
   "cell_type": "code",
   "execution_count": 6,
   "metadata": {},
   "outputs": [],
   "source": [
    "import nibabel as nib\n",
    "\n",
    "img_ct = nib.load(\"/media/eolika/8224BB4D24BB42C9/BLUEMIND/nnUNet/trains/nnUNet_raw/Dataset101_mosaic_bones_and_muscles/imagesTr/botkin_0003_0000.nii.gz\")\n",
    "img_seg = nib.load(\"/media/eolika/8224BB4D24BB42C9/BLUEMIND/nnUNet/trains/nnUNet_raw/Dataset101_mosaic_bones_and_muscles/labelsTr/botkin_0003.nii.gz\")"
   ]
  },
  {
   "cell_type": "code",
   "execution_count": 7,
   "metadata": {},
   "outputs": [
    {
     "data": {
      "text/plain": [
       "(1.0, 1.0, 1.0)"
      ]
     },
     "execution_count": 7,
     "metadata": {},
     "output_type": "execute_result"
    }
   ],
   "source": [
    "img_ct.header.get_zooms()"
   ]
  },
  {
   "cell_type": "code",
   "execution_count": 8,
   "metadata": {},
   "outputs": [
    {
     "data": {
      "text/plain": [
       "(1.0, 1.0, 1.0)"
      ]
     },
     "execution_count": 8,
     "metadata": {},
     "output_type": "execute_result"
    }
   ],
   "source": [
    "img_seg.header.get_zooms()"
   ]
  },
  {
   "cell_type": "code",
   "execution_count": null,
   "metadata": {},
   "outputs": [],
   "source": []
  }
 ],
 "metadata": {
  "kernelspec": {
   "display_name": ".nnunetv2-venv",
   "language": "python",
   "name": "python3"
  },
  "language_info": {
   "codemirror_mode": {
    "name": "ipython",
    "version": 3
   },
   "file_extension": ".py",
   "mimetype": "text/x-python",
   "name": "python",
   "nbconvert_exporter": "python",
   "pygments_lexer": "ipython3",
   "version": "3.10.12"
  },
  "orig_nbformat": 4
 },
 "nbformat": 4,
 "nbformat_minor": 2
}
