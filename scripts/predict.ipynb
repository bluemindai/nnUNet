{
  "cells": [
    {
      "cell_type": "markdown",
      "metadata": {
        "id": "P9M4MUzQZR3_"
      },
      "source": [
        "# Predict"
      ]
    },
    {
      "cell_type": "code",
      "execution_count": 1,
      "metadata": {},
      "outputs": [
        {
          "name": "stdout",
          "output_type": "stream",
          "text": [
            "Resampling...\n",
            "Original spacing: (0.493, 0.493, 1.0)\n",
            "from shape (512, 512, 186) to shape (168, 168, 124)\n",
            "Resampled in 2.03s\n",
            "\n",
            "Loaded resampled image with shape (124, 168, 168) and spacing: [1.5, 1.5, 1.5]\n",
            "\n",
            "Predicting...\n",
            "preprocessing\n",
            "old shape: (124, 168, 168), new_shape: [124 168 168], old_spacing: [1.5, 1.5, 1.5], new_spacing: [1.5, 1.5, 1.5], fn_data: functools.partial(<function resample_data_or_seg_to_shape at 0x7f8eca233400>, is_seg=False, order=3, order_z=0, force_separate_z=None)\n",
            "predicting\n",
            "Input shape: torch.Size([1, 124, 168, 168])\n",
            "step_size: 0.5\n",
            "mirror_axes: None\n",
            "n_steps 8, image size is torch.Size([124, 168, 168]), tile_size [112, 128, 128], tile_step_size 0.5\n",
            "steps:\n",
            "[[0, 12], [0, 40], [0, 40]]\n",
            "preallocating arrays\n",
            "running prediction\n"
          ]
        },
        {
          "name": "stderr",
          "output_type": "stream",
          "text": [
            "100%|██████████| 8/8 [00:00<00:00, 12.04it/s]\n"
          ]
        },
        {
          "name": "stdout",
          "output_type": "stream",
          "text": [
            "Prediction done, transferring to CPU if needed\n",
            "resampling to original shape\n",
            "Predicted in 2.09s\n",
            "\n",
            "Resampling to original spacing...\n",
            "from shape (168, 168, 124) to shape (512, 512, 186)\n",
            "Resampled in 0.47s\n",
            "\n",
            "Done in 6.08s\n"
          ]
        }
      ],
      "source": [
        "from predict import predict_image\n",
        "\n",
        "predict_image(input_file='/home/eolika/Desktop/BlueMind/nnUNet/brain_ich_1.nii.gz',\n",
        "              output='/home/eolika/Desktop/BlueMind/nnUNet/brain_ich_predicted.nii.gz',\n",
        "              model='/home/eolika/Desktop/BlueMind/nnUNet/trains/nnUNet_results/nnUNetTrainerDiceCELoss_noSmooth_500epochs__nnUNetPlans__3d_fullres')"
      ]
    },
    {
      "cell_type": "markdown",
      "metadata": {},
      "source": [
        "### batch prediction"
      ]
    },
    {
      "cell_type": "code",
      "execution_count": null,
      "metadata": {},
      "outputs": [],
      "source": [
        "import os\n",
        "import natsort\n",
        "from tqdm import tqdm\n",
        "from predict import predict_image\n",
        "\n",
        "dataset = \"/media/eolika/BlueMindAI/CT/dataset/plethora_dataset\"\n",
        "output_mask_name = \"total\"\n",
        "model='/home/eolika/Desktop/BlueMind/nnUNet/trains/nnUNet_results/nnUNetTrainerDiceCELoss_noSmooth_500epochs__nnUNetPlans__3d_fullres'\n",
        "\n",
        "cases = natsort.natsorted([case for case in os.listdir(dataset) if os.path.isdir(os.path.join(dataset, case))])\n",
        "\n",
        "pbar = tqdm(cases)\n",
        "\n",
        "for case in pbar:\n",
        "\n",
        "    pbar.set_description_str(case)\n",
        "\n",
        "    ct_file_path = os.path.join(dataset, case, 'ct.nii.gz')\n",
        "    output_dir = os.path.join(dataset, case, 'segmentations')\n",
        "\n",
        "    if not os.path.exists(output_dir):\n",
        "        os.mkdir(output_dir)\n",
        "\n",
        "    predict_image(input_file=ct_file_path,\n",
        "              output=f'{output_dir}/{output_mask_name}.nii.gz',\n",
        "              model=model,\n",
        "              nnunet_verbose=False)"
      ]
    },
    {
      "cell_type": "markdown",
      "metadata": {},
      "source": [
        "### Get sub-masks from total mask"
      ]
    },
    {
      "cell_type": "code",
      "execution_count": null,
      "metadata": {},
      "outputs": [],
      "source": [
        "import nibabel as nib\n",
        "import numpy as np\n",
        "from tqdm import tqdm\n",
        "import natsort\n",
        "import os\n",
        "\n",
        "dataset = \"/media/eolika/BlueMindAI/CT/dataset/plethora_dataset\"\n",
        "total_mask_name = 'total'\n",
        "\n",
        "labels = {\n",
        "    \"bones\": 1,\n",
        "    \"arteries\": 2,\n",
        "    \"veins\": 3,\n",
        "    \"muscles\": 4,\n",
        "    \"spleen\": 5,\n",
        "    \"kidney_right\": 6,\n",
        "    \"kidney_left\": 7,\n",
        "    \"gallbladder\": 8,\n",
        "    \"liver\": 9,\n",
        "    \"liver_vessels\": 10,\n",
        "    \"stomach\": 11,\n",
        "    \"pancreas\": 12,\n",
        "    \"adrenal_gland_right\": 13,\n",
        "    \"adrenal_gland_left\": 14,\n",
        "    \"esophagus\": 15,\n",
        "    \"brain\": 16,\n",
        "    \"small_bowel\": 17,\n",
        "    \"duodenum\": 18,\n",
        "    \"colon\": 19,\n",
        "    \"urinary_bladder\": 20,\n",
        "    \"lung_upper_lobe_left\": 21,\n",
        "    \"lung_lower_lobe_left\": 22,\n",
        "    \"lung_upper_lobe_right\": 23,\n",
        "    \"lung_middle_lobe_right\": 24,\n",
        "    \"lung_lower_lobe_right\": 25,\n",
        "    \"lung_trachea_bronchia\": 26,\n",
        "    \"lung_vessels\": 27,\n",
        "    \"heart_myocardium\": 28,\n",
        "    \"heart_atrium_left\": 29,\n",
        "    \"heart_ventricle_left\": 30,\n",
        "    \"heart_atrium_right\": 31,\n",
        "    \"heart_ventricle_right\": 32,\n",
        "    \"liver_formation\": 33,\n",
        "    \"lung_formation\": 34,\n",
        "    \"kidney_formation\": 35,\n",
        "    \"pleural_effusion\": 36,\n",
        "    \"intracerebral_hemorrhage\": 37\n",
        "}\n",
        "\n",
        "cases = natsort.natsorted([case for case in os.listdir(dataset) if os.path.isdir(os.path.join(dataset, case))])\n",
        "\n",
        "pbar = tqdm(cases)\n",
        "\n",
        "for case in pbar:\n",
        "\n",
        "    pbar.set_description_str(case)\n",
        "\n",
        "    ct_file_path = os.path.join(dataset, case, 'ct.nii.gz') \n",
        "    output_dir = os.path.join(dataset, case, 'segmentations')\n",
        "    mask_file_path = os.path.join(output_dir, 'total.nii.gz') \n",
        "\n",
        "    ct_img = nib.load(ct_file_path)\n",
        "    mask_img = nib.load(mask_file_path)\n",
        "    mask_data = mask_img.get_fdata()\n",
        "\n",
        "    for label, indx in labels.items():\n",
        "        label_mask = np.array(mask_data == indx).astype(np.uint8)\n",
        "        nib.save(nib.Nifti1Image(label_mask, mask_img.affine), os.path.join(output_dir, label+'.nii.gz'))"
      ]
    },
    {
      "cell_type": "code",
      "execution_count": null,
      "metadata": {},
      "outputs": [],
      "source": []
    }
  ],
  "metadata": {
    "accelerator": "GPU",
    "colab": {
      "gpuType": "V100",
      "machine_shape": "hm",
      "provenance": []
    },
    "kernelspec": {
      "display_name": "Python 3",
      "name": "python3"
    },
    "language_info": {
      "codemirror_mode": {
        "name": "ipython",
        "version": 3
      },
      "file_extension": ".py",
      "mimetype": "text/x-python",
      "name": "python",
      "nbconvert_exporter": "python",
      "pygments_lexer": "ipython3",
      "version": "3.10.12"
    }
  },
  "nbformat": 4,
  "nbformat_minor": 0
}
