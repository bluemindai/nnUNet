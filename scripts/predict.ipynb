{
  "cells": [
    {
      "cell_type": "markdown",
      "metadata": {
        "id": "P9M4MUzQZR3_"
      },
      "source": [
        "# Predict"
      ]
    },
    {
      "cell_type": "code",
      "execution_count": 3,
      "metadata": {},
      "outputs": [
        {
          "name": "stdout",
          "output_type": "stream",
          "text": [
            "Original image shape is (512, 512, 131)\n",
            "Reorient image shape is (131, 512, 512)\n",
            "\n",
            "Resampling...\n",
            "Original spacing: (0.9765625, 0.9765625, 3.0)\n",
            "from shape (512, 512, 131) to shape (333, 333, 262)\n",
            "Resampled in 4.83s\n",
            "\n",
            "Loaded resampled image with shape (262, 333, 333) and spacing: [1.5, 1.5, 1.5]\n",
            "\n",
            "Predicting...\n",
            "preprocessing\n",
            "old shape: (262, 333, 333), new_shape: [262 333 333], old_spacing: [1.5, 1.5, 1.5], new_spacing: [1.5, 1.5, 1.5], fn_data: functools.partial(<function resample_data_or_seg_to_shape at 0x7fc6e7e1e560>, is_seg=False, order=3, order_z=0, force_separate_z=None)\n",
            "predicting\n",
            "Input shape: torch.Size([1, 262, 333, 333])\n",
            "step_size: 0.5\n",
            "mirror_axes: None\n",
            "n_steps 100, image size is torch.Size([262, 333, 333]), tile_size [112, 128, 128], tile_step_size 0.5\n",
            "steps:\n",
            "[[0, 50, 100, 150], [0, 51, 102, 154, 205], [0, 51, 102, 154, 205]]\n",
            "preallocating arrays\n",
            "running prediction\n"
          ]
        },
        {
          "name": "stderr",
          "output_type": "stream",
          "text": [
            "100%|██████████| 100/100 [00:06<00:00, 15.66it/s]\n"
          ]
        },
        {
          "name": "stdout",
          "output_type": "stream",
          "text": [
            "Prediction done, transferring to CPU if needed\n",
            "resampling to original shape\n",
            "Predicted in 11.84s\n",
            "\n",
            "Resampling to original spacing...\n",
            "from shape (333, 333, 262) to shape (512, 512, 131)\n",
            "Resampled in 0.51s\n",
            "\n",
            "Done in 20.23s\n"
          ]
        }
      ],
      "source": [
        "from predict import predict_image\n",
        "\n",
        "predict_image(input_file='/media/eolika/BlueMindAI/CT/dataset/plethora_dataset/plethora-210/ct.nii.gz',\n",
        "              output='/media/eolika/BlueMindAI/CT/dataset/plethora_dataset/plethora-210/mosaic_total.nii.gz',\n",
        "              model='/media/eolika/8224BB4D24BB42C9/BLUEMIND/nnUNet/trains/nnUNet_results/Dataset001_mosaicV1/nnUNetTrainer2000epochs__nnUNetPlans__3d_fullres/')"
      ]
    },
    {
      "cell_type": "markdown",
      "metadata": {},
      "source": [
        "### batch prediction"
      ]
    },
    {
      "cell_type": "code",
      "execution_count": null,
      "metadata": {},
      "outputs": [],
      "source": [
        "import os\n",
        "from tqdm import tqdm\n",
        "from predict import predict_image\n",
        "\n",
        "dataset = \"/media/eolika/BlueMindAI/CT/dataset/todo/\"\n",
        "output_mask_name = \"lung_formation\"\n",
        "model='/home/eolika/Desktop/BlueMind/nnUNet/trains/nnUNet_results/Dataset901_lung_formation_dataset/nnUNetTrainer150epochs__nnUNetPlans__3d_fullres_custom'\n",
        "\n",
        "cases = [case for case in os.listdir(dataset) if os.path.isdir(os.path.join(dataset, case))]\n",
        "\n",
        "pbar = tqdm(cases)\n",
        "\n",
        "for case in pbar:\n",
        "\n",
        "    pbar.set_description_str(case)\n",
        "\n",
        "    ct_file_path = os.path.join(dataset, case, 'ct.nii.gz')\n",
        "    output_dir = os.path.join(dataset, case, 'segmentations')\n",
        "\n",
        "    predict_image(input_file=ct_file_path,\n",
        "              output=f'{output_dir}/{output_mask_name}.nii.gz',\n",
        "              model=model,\n",
        "              nnunet_verbose=False)"
      ]
    },
    {
      "cell_type": "code",
      "execution_count": null,
      "metadata": {},
      "outputs": [],
      "source": []
    }
  ],
  "metadata": {
    "accelerator": "GPU",
    "colab": {
      "gpuType": "V100",
      "machine_shape": "hm",
      "provenance": []
    },
    "kernelspec": {
      "display_name": "Python 3",
      "name": "python3"
    },
    "language_info": {
      "codemirror_mode": {
        "name": "ipython",
        "version": 3
      },
      "file_extension": ".py",
      "mimetype": "text/x-python",
      "name": "python",
      "nbconvert_exporter": "python",
      "pygments_lexer": "ipython3",
      "version": "3.10.12"
    }
  },
  "nbformat": 4,
  "nbformat_minor": 0
}
