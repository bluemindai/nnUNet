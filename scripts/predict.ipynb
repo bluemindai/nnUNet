{
 "cells": [
  {
   "cell_type": "code",
   "execution_count": null,
   "metadata": {},
   "outputs": [],
   "source": [
    "from nnunetv2.imageio.nibabel_reader_writer import NibabelIOWithReorient\n",
    "from nnunetv2.inference.predict_from_raw_data import nnUNetPredictor\n",
    "import torch\n",
    "\n",
    "\n",
    "path_to_nifti = \"/media/eolika/BlueMindAI/CT/dataset/aorta2/botkin_0155/ct.nii.gz\"\n",
    "model_path = \"/home/eolika/Desktop/BlueMind/nnUNet/trains/nnUNet_results/Dataset310_aorta_detailed/nnUNetTrainer_250epochs_NoMirroring__nnUNetResEncUNetLPlans__3d_fullres\"\n",
    "output_path = \"/media/eolika/BlueMindAI/CT/dataset/aorta2/botkin_0155/aorta.nii.gz\"\n",
    "\n",
    "img, props = NibabelIOWithReorient().read_images([path_to_nifti])\n",
    "\n",
    "predictor = nnUNetPredictor(\n",
    "    tile_step_size=0.5,\n",
    "    use_gaussian=True,\n",
    "    use_mirroring=False,\n",
    "    perform_everything_on_device=True,\n",
    "    device=torch.device(\"cuda\" if torch.cuda.is_available() else \"cpu\"),\n",
    "    verbose=True,\n",
    "    verbose_preprocessing=True,\n",
    "    allow_tqdm=True\n",
    ")\n",
    "\n",
    "predictor.initialize_from_trained_model_folder(\n",
    "    model_path,\n",
    "    use_folds='all',\n",
    "    checkpoint_name='checkpoint_best.pth',\n",
    ")\n",
    "\n",
    "pred, probs = predictor.predict_single_npy_array(\n",
    "    input_image=img, \n",
    "    image_properties=props, \n",
    "    segmentation_previous_stage=None, \n",
    "    output_file_truncated=None, \n",
    "    save_or_return_probabilities=True\n",
    ")\n",
    "\n",
    "NibabelIOWithReorient().write_seg(\n",
    "    seg=pred,\n",
    "    output_fname=output_path,\n",
    "    properties=props\n",
    ")"
   ]
  },
  {
   "cell_type": "code",
   "execution_count": null,
   "metadata": {},
   "outputs": [],
   "source": []
  }
 ],
 "metadata": {
  "kernelspec": {
   "display_name": ".nnunet_venv",
   "language": "python",
   "name": "python3"
  },
  "language_info": {
   "codemirror_mode": {
    "name": "ipython",
    "version": 3
   },
   "file_extension": ".py",
   "mimetype": "text/x-python",
   "name": "python",
   "nbconvert_exporter": "python",
   "pygments_lexer": "ipython3",
   "version": "3.10.12"
  }
 },
 "nbformat": 4,
 "nbformat_minor": 2
}
