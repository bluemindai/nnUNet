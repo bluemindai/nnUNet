{
 "cells": [
  {
   "cell_type": "code",
   "execution_count": 25,
   "metadata": {},
   "outputs": [
    {
     "name": "stdout",
     "output_type": "stream",
     "text": [
      "preprocessing\n",
      "old shape: (563, 512, 512), new_shape: [450 489 489], old_spacing: [0.800000011920929, 0.7799999713897705, 0.7799999713897705], new_spacing: [1.0, 0.8164060115814209, 0.8164060115814209], fn_data: functools.partial(<function resample_data_or_seg_to_shape at 0x719aa3b71360>, is_seg=False, order=3, order_z=0, force_separate_z=None)\n",
      "predicting\n",
      "Input shape: torch.Size([1, 450, 489, 489])\n",
      "step_size: 0.5\n",
      "mirror_axes: None\n",
      "n_steps 120, image size is torch.Size([450, 489, 489]), tile_size [224, 192, 160], tile_step_size 0.5\n",
      "steps:\n",
      "[[0, 75, 151, 226], [0, 74, 148, 223, 297], [0, 66, 132, 197, 263, 329]]\n",
      "move image to device cuda\n",
      "preallocating results arrays on device cuda\n"
     ]
    },
    {
     "name": "stderr",
     "output_type": "stream",
     "text": [
      "100%|██████████| 120/120 [00:10<00:00, 11.72it/s]\n"
     ]
    },
    {
     "name": "stdout",
     "output_type": "stream",
     "text": [
      "Prediction done\n",
      "resampling to original shape\n"
     ]
    }
   ],
   "source": [
    "from nnunetv2.imageio.nibabel_reader_writer import NibabelIOWithReorient\n",
    "from nnunetv2.inference.predict_from_raw_data import nnUNetPredictor\n",
    "import torch\n",
    "\n",
    "\n",
    "path_to_nifti = \"/media/eolika/BlueMindAI/CT/dataset/mosaic_total_dataset/kits23_case_00000/spacing_1mm/ct.nii.gz\"\n",
    "model_path = \"/home/eolika/Desktop/BlueMind/nnUNet/trains/nnUNet_results/Dataset603_adrenal_structures/nnUNetTrainer_150epochs_NoMirroring__Mosaic_nnUNetPlannerResEncL_stdres_NoResample_24G__3d_fullres_stdres_NoRsmp\"\n",
    "output_path = \"/media/eolika/BlueMindAI/CT/dataset/mosaic_total_dataset/kits23_case_00000/spacing_1mm/adreno.nii.gz\"\n",
    "\n",
    "img, props = NibabelIOWithReorient().read_images([path_to_nifti])\n",
    "\n",
    "predictor = nnUNetPredictor(\n",
    "    tile_step_size=0.5,\n",
    "    use_gaussian=True,\n",
    "    use_mirroring=False,\n",
    "    perform_everything_on_device=True,\n",
    "    device=torch.device(\"cuda\" if torch.cuda.is_available() else \"cpu\"),\n",
    "    verbose=True,\n",
    "    verbose_preprocessing=True,\n",
    "    allow_tqdm=True\n",
    ")\n",
    "\n",
    "predictor.initialize_from_trained_model_folder(\n",
    "    model_path,\n",
    "    use_folds=[0],\n",
    "    checkpoint_name='checkpoint_best.pth',\n",
    ")\n",
    "\n",
    "pred, probs = predictor.predict_single_npy_array(\n",
    "    input_image=img, \n",
    "    image_properties=props, \n",
    "    segmentation_previous_stage=None, \n",
    "    output_file_truncated=None, \n",
    "    save_or_return_probabilities=True\n",
    ")\n",
    "\n",
    "NibabelIOWithReorient().write_seg(\n",
    "    seg=pred,\n",
    "    output_fname=output_path,\n",
    "    properties=props\n",
    ")"
   ]
  },
  {
   "cell_type": "code",
   "execution_count": 1,
   "metadata": {},
   "outputs": [
    {
     "data": {
      "text/plain": [
       "{'nibabel_stuff': {'original_affine': array([[ 0.,  0., -1.,  0.],\n",
       "         [ 0., -1.,  0.,  0.],\n",
       "         [-1.,  0.,  0.,  0.],\n",
       "         [ 0.,  0.,  0.,  1.]]),\n",
       "  'reoriented_affine': array([[   1.,    0.,    0., -470.],\n",
       "         [   0.,    1.,    0., -470.],\n",
       "         [   0.,    0.,    1., -305.],\n",
       "         [   0.,    0.,    0.,    1.]])},\n",
       " 'spacing': [1.5, 1.5, 1.5]}"
      ]
     },
     "execution_count": 1,
     "metadata": {},
     "output_type": "execute_result"
    }
   ],
   "source": [
    "from nnunetv2.imageio.nibabel_reader_writer import NibabelIOWithReorient\n",
    "from nnunetv2.inference.predict_from_raw_data import nnUNetPredictor\n",
    "from nnunetv2.preprocessing.resampling.default_resampling import resample_data_or_seg_to_spacing\n",
    "import torch\n",
    "\n",
    "\n",
    "path_to_nifti = \"/media/eolika/BlueMindAI/CT/dataset/mosaic_total_dataset/kits23_case_00000/spacing_1mm/ct.nii.gz\"\n",
    "model_path = \"/home/eolika/Desktop/BlueMind/nnUNet/trains/nnUNet_results/Dataset603_adrenal_structures/nnUNetTrainer_150epochs_NoMirroring__Mosaic_nnUNetPlannerResEncL_stdres_NoResample_24G__3d_fullres_stdres_NoRsmp\"\n",
    "output_path = \"/media/eolika/BlueMindAI/CT/dataset/mosaic_total_dataset/kits23_case_00000/spacing_1mm/adreno.nii.gz\"\n",
    "\n",
    "img, props = NibabelIOWithReorient().read_images([path_to_nifti])\n",
    "props['spacing'] = [1.5, 1.5, 1.5]\n",
    "\n",
    "props"
   ]
  },
  {
   "cell_type": "code",
   "execution_count": null,
   "metadata": {},
   "outputs": [],
   "source": []
  }
 ],
 "metadata": {
  "kernelspec": {
   "display_name": ".nnunet_venv",
   "language": "python",
   "name": "python3"
  },
  "language_info": {
   "codemirror_mode": {
    "name": "ipython",
    "version": 3
   },
   "file_extension": ".py",
   "mimetype": "text/x-python",
   "name": "python",
   "nbconvert_exporter": "python",
   "pygments_lexer": "ipython3",
   "version": "3.10.12"
  }
 },
 "nbformat": 4,
 "nbformat_minor": 2
}
